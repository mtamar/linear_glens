{
  "nbformat": 4,
  "nbformat_minor": 0,
  "metadata": {
    "colab": {
      "provenance": []
    },
    "kernelspec": {
      "name": "python3",
      "display_name": "Python 3"
    },
    "language_info": {
      "name": "python"
    },
    "widgets": {
      "application/vnd.jupyter.widget-state+json": {
        "e5d72026b32d45be8677795c2a55c990": {
          "model_module": "@jupyter-widgets/controls",
          "model_name": "HBoxModel",
          "model_module_version": "1.5.0",
          "state": {
            "_dom_classes": [],
            "_model_module": "@jupyter-widgets/controls",
            "_model_module_version": "1.5.0",
            "_model_name": "HBoxModel",
            "_view_count": null,
            "_view_module": "@jupyter-widgets/controls",
            "_view_module_version": "1.5.0",
            "_view_name": "HBoxView",
            "box_style": "",
            "children": [
              "IPY_MODEL_848042e11a8c42c18d13a68edea08384",
              "IPY_MODEL_499dc69816e140679d9a3677af755469",
              "IPY_MODEL_e9b8abf062f3455cbf1f69e8ec525525"
            ],
            "layout": "IPY_MODEL_4a755d2f678d4bffb83def8c2821cc0d"
          }
        },
        "848042e11a8c42c18d13a68edea08384": {
          "model_module": "@jupyter-widgets/controls",
          "model_name": "HTMLModel",
          "model_module_version": "1.5.0",
          "state": {
            "_dom_classes": [],
            "_model_module": "@jupyter-widgets/controls",
            "_model_module_version": "1.5.0",
            "_model_name": "HTMLModel",
            "_view_count": null,
            "_view_module": "@jupyter-widgets/controls",
            "_view_module_version": "1.5.0",
            "_view_name": "HTMLView",
            "description": "",
            "description_tooltip": null,
            "layout": "IPY_MODEL_157682135e714c49b1f54c912ac90b37",
            "placeholder": "​",
            "style": "IPY_MODEL_58806cfd691649ff9fe65d6f69455aec",
            "value": "Chi Squared: 0.00000000: 100%"
          }
        },
        "499dc69816e140679d9a3677af755469": {
          "model_module": "@jupyter-widgets/controls",
          "model_name": "FloatProgressModel",
          "model_module_version": "1.5.0",
          "state": {
            "_dom_classes": [],
            "_model_module": "@jupyter-widgets/controls",
            "_model_module_version": "1.5.0",
            "_model_name": "FloatProgressModel",
            "_view_count": null,
            "_view_module": "@jupyter-widgets/controls",
            "_view_module_version": "1.5.0",
            "_view_name": "ProgressView",
            "bar_style": "success",
            "description": "",
            "description_tooltip": null,
            "layout": "IPY_MODEL_3af1dcb3b6c4490b803d1227f0871080",
            "max": 300,
            "min": 0,
            "orientation": "horizontal",
            "style": "IPY_MODEL_f2c03d7ed5dc4212baf413b15347e20a",
            "value": 300
          }
        },
        "e9b8abf062f3455cbf1f69e8ec525525": {
          "model_module": "@jupyter-widgets/controls",
          "model_name": "HTMLModel",
          "model_module_version": "1.5.0",
          "state": {
            "_dom_classes": [],
            "_model_module": "@jupyter-widgets/controls",
            "_model_module_version": "1.5.0",
            "_model_name": "HTMLModel",
            "_view_count": null,
            "_view_module": "@jupyter-widgets/controls",
            "_view_module_version": "1.5.0",
            "_view_name": "HTMLView",
            "description": "",
            "description_tooltip": null,
            "layout": "IPY_MODEL_2b740647d9d64481ae31b5fdcb047a77",
            "placeholder": "​",
            "style": "IPY_MODEL_8d1b7ec60f3c4667840fbbf8710d93e9",
            "value": " 300/300 [00:02&lt;00:00, 324.46it/s]"
          }
        },
        "4a755d2f678d4bffb83def8c2821cc0d": {
          "model_module": "@jupyter-widgets/base",
          "model_name": "LayoutModel",
          "model_module_version": "1.2.0",
          "state": {
            "_model_module": "@jupyter-widgets/base",
            "_model_module_version": "1.2.0",
            "_model_name": "LayoutModel",
            "_view_count": null,
            "_view_module": "@jupyter-widgets/base",
            "_view_module_version": "1.2.0",
            "_view_name": "LayoutView",
            "align_content": null,
            "align_items": null,
            "align_self": null,
            "border": null,
            "bottom": null,
            "display": null,
            "flex": null,
            "flex_flow": null,
            "grid_area": null,
            "grid_auto_columns": null,
            "grid_auto_flow": null,
            "grid_auto_rows": null,
            "grid_column": null,
            "grid_gap": null,
            "grid_row": null,
            "grid_template_areas": null,
            "grid_template_columns": null,
            "grid_template_rows": null,
            "height": null,
            "justify_content": null,
            "justify_items": null,
            "left": null,
            "margin": null,
            "max_height": null,
            "max_width": null,
            "min_height": null,
            "min_width": null,
            "object_fit": null,
            "object_position": null,
            "order": null,
            "overflow": null,
            "overflow_x": null,
            "overflow_y": null,
            "padding": null,
            "right": null,
            "top": null,
            "visibility": null,
            "width": null
          }
        },
        "157682135e714c49b1f54c912ac90b37": {
          "model_module": "@jupyter-widgets/base",
          "model_name": "LayoutModel",
          "model_module_version": "1.2.0",
          "state": {
            "_model_module": "@jupyter-widgets/base",
            "_model_module_version": "1.2.0",
            "_model_name": "LayoutModel",
            "_view_count": null,
            "_view_module": "@jupyter-widgets/base",
            "_view_module_version": "1.2.0",
            "_view_name": "LayoutView",
            "align_content": null,
            "align_items": null,
            "align_self": null,
            "border": null,
            "bottom": null,
            "display": null,
            "flex": null,
            "flex_flow": null,
            "grid_area": null,
            "grid_auto_columns": null,
            "grid_auto_flow": null,
            "grid_auto_rows": null,
            "grid_column": null,
            "grid_gap": null,
            "grid_row": null,
            "grid_template_areas": null,
            "grid_template_columns": null,
            "grid_template_rows": null,
            "height": null,
            "justify_content": null,
            "justify_items": null,
            "left": null,
            "margin": null,
            "max_height": null,
            "max_width": null,
            "min_height": null,
            "min_width": null,
            "object_fit": null,
            "object_position": null,
            "order": null,
            "overflow": null,
            "overflow_x": null,
            "overflow_y": null,
            "padding": null,
            "right": null,
            "top": null,
            "visibility": null,
            "width": null
          }
        },
        "58806cfd691649ff9fe65d6f69455aec": {
          "model_module": "@jupyter-widgets/controls",
          "model_name": "DescriptionStyleModel",
          "model_module_version": "1.5.0",
          "state": {
            "_model_module": "@jupyter-widgets/controls",
            "_model_module_version": "1.5.0",
            "_model_name": "DescriptionStyleModel",
            "_view_count": null,
            "_view_module": "@jupyter-widgets/base",
            "_view_module_version": "1.2.0",
            "_view_name": "StyleView",
            "description_width": ""
          }
        },
        "3af1dcb3b6c4490b803d1227f0871080": {
          "model_module": "@jupyter-widgets/base",
          "model_name": "LayoutModel",
          "model_module_version": "1.2.0",
          "state": {
            "_model_module": "@jupyter-widgets/base",
            "_model_module_version": "1.2.0",
            "_model_name": "LayoutModel",
            "_view_count": null,
            "_view_module": "@jupyter-widgets/base",
            "_view_module_version": "1.2.0",
            "_view_name": "LayoutView",
            "align_content": null,
            "align_items": null,
            "align_self": null,
            "border": null,
            "bottom": null,
            "display": null,
            "flex": null,
            "flex_flow": null,
            "grid_area": null,
            "grid_auto_columns": null,
            "grid_auto_flow": null,
            "grid_auto_rows": null,
            "grid_column": null,
            "grid_gap": null,
            "grid_row": null,
            "grid_template_areas": null,
            "grid_template_columns": null,
            "grid_template_rows": null,
            "height": null,
            "justify_content": null,
            "justify_items": null,
            "left": null,
            "margin": null,
            "max_height": null,
            "max_width": null,
            "min_height": null,
            "min_width": null,
            "object_fit": null,
            "object_position": null,
            "order": null,
            "overflow": null,
            "overflow_x": null,
            "overflow_y": null,
            "padding": null,
            "right": null,
            "top": null,
            "visibility": null,
            "width": null
          }
        },
        "f2c03d7ed5dc4212baf413b15347e20a": {
          "model_module": "@jupyter-widgets/controls",
          "model_name": "ProgressStyleModel",
          "model_module_version": "1.5.0",
          "state": {
            "_model_module": "@jupyter-widgets/controls",
            "_model_module_version": "1.5.0",
            "_model_name": "ProgressStyleModel",
            "_view_count": null,
            "_view_module": "@jupyter-widgets/base",
            "_view_module_version": "1.2.0",
            "_view_name": "StyleView",
            "bar_color": null,
            "description_width": ""
          }
        },
        "2b740647d9d64481ae31b5fdcb047a77": {
          "model_module": "@jupyter-widgets/base",
          "model_name": "LayoutModel",
          "model_module_version": "1.2.0",
          "state": {
            "_model_module": "@jupyter-widgets/base",
            "_model_module_version": "1.2.0",
            "_model_name": "LayoutModel",
            "_view_count": null,
            "_view_module": "@jupyter-widgets/base",
            "_view_module_version": "1.2.0",
            "_view_name": "LayoutView",
            "align_content": null,
            "align_items": null,
            "align_self": null,
            "border": null,
            "bottom": null,
            "display": null,
            "flex": null,
            "flex_flow": null,
            "grid_area": null,
            "grid_auto_columns": null,
            "grid_auto_flow": null,
            "grid_auto_rows": null,
            "grid_column": null,
            "grid_gap": null,
            "grid_row": null,
            "grid_template_areas": null,
            "grid_template_columns": null,
            "grid_template_rows": null,
            "height": null,
            "justify_content": null,
            "justify_items": null,
            "left": null,
            "margin": null,
            "max_height": null,
            "max_width": null,
            "min_height": null,
            "min_width": null,
            "object_fit": null,
            "object_position": null,
            "order": null,
            "overflow": null,
            "overflow_x": null,
            "overflow_y": null,
            "padding": null,
            "right": null,
            "top": null,
            "visibility": null,
            "width": null
          }
        },
        "8d1b7ec60f3c4667840fbbf8710d93e9": {
          "model_module": "@jupyter-widgets/controls",
          "model_name": "DescriptionStyleModel",
          "model_module_version": "1.5.0",
          "state": {
            "_model_module": "@jupyter-widgets/controls",
            "_model_module_version": "1.5.0",
            "_model_name": "DescriptionStyleModel",
            "_view_count": null,
            "_view_module": "@jupyter-widgets/base",
            "_view_module_version": "1.2.0",
            "_view_name": "StyleView",
            "description_width": ""
          }
        }
      }
    }
  },
  "cells": [
    {
      "cell_type": "code",
      "execution_count": 1,
      "metadata": {
        "colab": {
          "base_uri": "https://localhost:8080/"
        },
        "id": "nq-msxcHLxmS",
        "outputId": "6c9ed229-9331-4ebb-b977-6af6e99cfa26"
      },
      "outputs": [
        {
          "output_type": "stream",
          "name": "stdout",
          "text": [
            "Collecting gigalens\n",
            "  Downloading gigalens-0.1.8-py3-none-any.whl (61 kB)\n",
            "\u001b[2K     \u001b[90m━━━━━━━━━━━━━━━━━━━━━━━━━━━━━━━━━━━━━━━━\u001b[0m \u001b[32m61.2/61.2 kB\u001b[0m \u001b[31m1.1 MB/s\u001b[0m eta \u001b[36m0:00:00\u001b[0m\n",
            "\u001b[?25hRequirement already satisfied: tensorflow>=2.6.0 in /usr/local/lib/python3.10/dist-packages (from gigalens) (2.15.0)\n",
            "Requirement already satisfied: tensorflow-probability>=0.15.0 in /usr/local/lib/python3.10/dist-packages (from gigalens) (0.22.0)\n",
            "Collecting lenstronomy==1.9.3 (from gigalens)\n",
            "  Downloading lenstronomy-1.9.3.tar.gz (3.4 MB)\n",
            "\u001b[2K     \u001b[90m━━━━━━━━━━━━━━━━━━━━━━━━━━━━━━━━━━━━━━━━\u001b[0m \u001b[32m3.4/3.4 MB\u001b[0m \u001b[31m27.8 MB/s\u001b[0m eta \u001b[36m0:00:00\u001b[0m\n",
            "\u001b[?25h  Preparing metadata (setup.py) ... \u001b[?25l\u001b[?25hdone\n",
            "Collecting scikit-image==0.18.2 (from gigalens)\n",
            "  Downloading scikit-image-0.18.2.tar.gz (30.8 MB)\n",
            "\u001b[2K     \u001b[90m━━━━━━━━━━━━━━━━━━━━━━━━━━━━━━━━━━━━━━━━\u001b[0m \u001b[32m30.8/30.8 MB\u001b[0m \u001b[31m10.7 MB/s\u001b[0m eta \u001b[36m0:00:00\u001b[0m\n",
            "\u001b[?25h\u001b[31mERROR: Operation cancelled by user\u001b[0m\u001b[31m\n",
            "\u001b[0m"
          ]
        }
      ],
      "source": [
        "!pip install gigalens"
      ]
    },
    {
      "cell_type": "code",
      "source": [
        "!pip install corner"
      ],
      "metadata": {
        "colab": {
          "base_uri": "https://localhost:8080/"
        },
        "id": "F4ub9aAvWnrJ",
        "outputId": "96d8bb3c-8633-4ecb-ecbb-c2acb47b16ae"
      },
      "execution_count": 1,
      "outputs": [
        {
          "output_type": "stream",
          "name": "stdout",
          "text": [
            "Requirement already satisfied: corner in /usr/local/lib/python3.10/dist-packages (2.2.2)\n",
            "Requirement already satisfied: matplotlib>=2.1 in /usr/local/lib/python3.10/dist-packages (from corner) (3.7.1)\n",
            "Requirement already satisfied: contourpy>=1.0.1 in /usr/local/lib/python3.10/dist-packages (from matplotlib>=2.1->corner) (1.2.0)\n",
            "Requirement already satisfied: cycler>=0.10 in /usr/local/lib/python3.10/dist-packages (from matplotlib>=2.1->corner) (0.12.1)\n",
            "Requirement already satisfied: fonttools>=4.22.0 in /usr/local/lib/python3.10/dist-packages (from matplotlib>=2.1->corner) (4.47.2)\n",
            "Requirement already satisfied: kiwisolver>=1.0.1 in /usr/local/lib/python3.10/dist-packages (from matplotlib>=2.1->corner) (1.4.5)\n",
            "Requirement already satisfied: numpy>=1.20 in /usr/local/lib/python3.10/dist-packages (from matplotlib>=2.1->corner) (1.23.5)\n",
            "Requirement already satisfied: packaging>=20.0 in /usr/local/lib/python3.10/dist-packages (from matplotlib>=2.1->corner) (23.2)\n",
            "Requirement already satisfied: pillow>=6.2.0 in /usr/local/lib/python3.10/dist-packages (from matplotlib>=2.1->corner) (9.4.0)\n",
            "Requirement already satisfied: pyparsing>=2.3.1 in /usr/local/lib/python3.10/dist-packages (from matplotlib>=2.1->corner) (3.1.1)\n",
            "Requirement already satisfied: python-dateutil>=2.7 in /usr/local/lib/python3.10/dist-packages (from matplotlib>=2.1->corner) (2.8.2)\n",
            "Requirement already satisfied: six>=1.5 in /usr/local/lib/python3.10/dist-packages (from python-dateutil>=2.7->matplotlib>=2.1->corner) (1.16.0)\n"
          ]
        }
      ]
    },
    {
      "cell_type": "code",
      "source": [
        "import matplotlib as mpl\n",
        "import numpy as np\n",
        "import seaborn as sns\n",
        "import tensorflow as tf\n",
        "import tensorflow_probability as tfp\n",
        "from matplotlib import pyplot as plt\n",
        "from corner import corner\n",
        "\n",
        "\"\"\"from gigalens.tf.inference import ModellingSequence\n",
        "from gigalens.tf.model import ForwardProbModel, BackwardProbModel\n",
        "from gigalens.model import PhysicalModel\n",
        "from gigalens.tf.simulator import LensSimulator\n",
        "from gigalens.simulator import SimulatorConfig\n",
        "from gigalens.tf.profiles.light import sersic\n",
        "from gigalens.tf.profiles.mass import epl, shear\"\"\"\n",
        "\n",
        "sns.set_style(\"whitegrid\")\n",
        "tfd = tfp.distributions"
      ],
      "metadata": {
        "id": "tv58HZlHL4Se"
      },
      "execution_count": 2,
      "outputs": []
    },
    {
      "cell_type": "code",
      "source": [
        "line_prior = tfd.JointDistributionNamed(\n",
        "                  dict(\n",
        "                      slope=tfd.Uniform(-10,10),\n",
        "                      y_intercept=tfd.Uniform(-10,10),\n",
        "                  )\n",
        "              )\n",
        ""
      ],
      "metadata": {
        "id": "YXbqLiBZMCom"
      },
      "execution_count": 3,
      "outputs": []
    },
    {
      "cell_type": "code",
      "source": [
        "line_prior.sample(2)"
      ],
      "metadata": {
        "colab": {
          "base_uri": "https://localhost:8080/"
        },
        "id": "gQUVD9svMDI5",
        "outputId": "22fcff5c-26fe-4909-e0cd-e3a177c0ebd8"
      },
      "execution_count": 4,
      "outputs": [
        {
          "output_type": "execute_result",
          "data": {
            "text/plain": [
              "{'y_intercept': <tf.Tensor: shape=(2,), dtype=float32, numpy=array([ 0.70957375, -0.14593315], dtype=float32)>,\n",
              " 'slope': <tf.Tensor: shape=(2,), dtype=float32, numpy=array([9.246218 , 2.2606182], dtype=float32)>}"
            ]
          },
          "metadata": {},
          "execution_count": 4
        }
      ]
    },
    {
      "cell_type": "code",
      "source": [
        "import random\n",
        "\n",
        "# define truth parameters and noisy data\n",
        "\n",
        "m = 2.0\n",
        "b = -3.0\n",
        "err = 2.0\n",
        "\n",
        "num_points = 100\n",
        "\n",
        "x_observed = []\n",
        "for i in range(num_points):\n",
        "  x = random.uniform(0,10)\n",
        "  x_observed.append(x)\n",
        "\n",
        "x_observed = tf.cast(tf.constant(x_observed),tf.float32)\n",
        "m = tf.cast(tf.constant([m]),tf.float32)\n",
        "b = tf.cast(tf.constant([b]),tf.float32)\n",
        "err = tf.cast(tf.constant(err), tf.float32)\n",
        "\n",
        "@tf.function\n",
        "def line_model(x,params):\n",
        "  m,b = params\n",
        "  mx = tf.tensordot(m,x,axes=0)\n",
        "  b_ = b[:,None]\n",
        "  y = mx + b_\n",
        "  return y\n",
        "\n",
        "def line_noisy(x,params):\n",
        "  m,b = params\n",
        "  return line_model(x,(m,b)) + random.uniform(-1,1)\n",
        "\n",
        "y_observed = [line_noisy(x,(m,b)) for x in x_observed]\n",
        "y_observed = np.array(y_observed).flatten()\n",
        "y_observed = tf.cast(tf.constant(y_observed),tf.float32)\n",
        "\n",
        "# plot data points and truth line\n",
        "\n",
        "x_observed_c = tf.reshape(x_observed,(num_points))\n",
        "y_observed_c = tf.reshape(y_observed,(num_points))\n",
        "\n",
        "plt.scatter(x_observed_c,y_observed_c)\n",
        "plt.errorbar(x_observed_c, y_observed_c, yerr = err, marker = 's', fmt = 'None', ecolor = 'red', alpha = 0.3)\n",
        "plt.plot(x_observed_c, tf.reshape(line_model(x_observed, (m,b)),(num_points)), color = 'orange')\n",
        "plt.show()\n",
        "\n",
        "ms = tf.constant([1.0,-2.0,3.0,4.0])\n",
        "bs = tf.constant([1.0,3.0,2.0,4.0])\n",
        "\n",
        "tf.shape(tf.reshape(line_model(x_observed, (ms,bs)), (num_points,-1)))\n",
        "\n"
      ],
      "metadata": {
        "colab": {
          "base_uri": "https://localhost:8080/",
          "height": 447
        },
        "id": "_3IFj23HX_Mg",
        "outputId": "479fc810-2d37-419c-b109-dc665722f868"
      },
      "execution_count": 123,
      "outputs": [
        {
          "output_type": "display_data",
          "data": {
            "text/plain": [
              "<Figure size 640x480 with 1 Axes>"
            ],
            "image/png": "[encoded data removed]"
          },
          "metadata": {}
        },
        {
          "output_type": "execute_result",
          "data": {
            "text/plain": [
              "<tf.Tensor: shape=(2,), dtype=int32, numpy=array([100,   4], dtype=int32)>"
            ]
          },
          "metadata": {},
          "execution_count": 123
        }
      ]
    },
    {
      "cell_type": "code",
      "source": [
        "@tf.function\n",
        "def log_prob(x_observed, y_observed, m, b):\n",
        "  y_model = tf.reshape(line_model(x_observed, (m,b)), (num_points,-1))\n",
        "  y_model = tf.reshape(y_model,(len(m),num_points))\n",
        "  #print(y_model)\n",
        "  errs = tf.constant(err, shape=(len(m),num_points))\n",
        "  #print(errs)\n",
        "  #y_observed_ = y_observed[None,:]\n",
        "  #print(tfd.Independent(tfd.Normal(y_model, errs)))\n",
        "  log_like = tfd.Independent(tfd.Normal(y_model, errs), reinterpreted_batch_ndims=None).log_prob(y_observed)\n",
        "  #print(y_observed)\n",
        "  #print(log_like)\n",
        "  log_prior = line_prior.log_prob(dict(slope=m,y_intercept=b))\n",
        "  #print(log_prior)\n",
        "\n",
        "  return log_like + log_prior, tf.reduce_mean((y_observed - line_model(x_observed,(m,b)))/errs, axis = 1)**2\n"
      ],
      "metadata": {
        "id": "hLO-L7t2anPS"
      },
      "execution_count": 124,
      "outputs": []
    },
    {
      "cell_type": "code",
      "source": [
        "ms = tf.constant([1.0,2.0,3.0,4.0])\n",
        "bs = tf.constant([1.0,-3.0,2.0,4.0])\n",
        "lps, square_errs = log_prob(x_observed, y_observed, ms, bs)\n",
        "square_errs"
      ],
      "metadata": {
        "colab": {
          "base_uri": "https://localhost:8080/"
        },
        "id": "R0XL9OOko1ll",
        "outputId": "84e61893-e6b9-4a19-9792-bda882e3f9b9"
      },
      "execution_count": 125,
      "outputs": [
        {
          "output_type": "execute_result",
          "data": {
            "text/plain": [
              "<tf.Tensor: shape=(4,), dtype=float32, numpy=\n",
              "array([1.2318712e-01, 8.8595400e-05, 2.3715000e+01, 6.7736160e+01],\n",
              "      dtype=float32)>"
            ]
          },
          "metadata": {},
          "execution_count": 125
        }
      ]
    },
    {
      "cell_type": "code",
      "source": [
        "from tqdm.auto import trange, tqdm\n",
        "\n",
        "class ModellingSequence():\n",
        "    def __init__(self, x_observed, y_observed):\n",
        "        self.x_observed = x_observed\n",
        "        self.y_observed = y_observed\n",
        "\n",
        "    def MAP(self, optimizer, start=None, n_samples=500, num_steps=350, seed=0):\n",
        "        tf.random.set_seed(seed)\n",
        "        #start = self.prob_model.prior.sample(n_samples) if start is None else start\n",
        "        start = line_prior.sample(n_samples)\n",
        "        ms = start['slope']\n",
        "        bs = start['y_intercept']\n",
        "        ms_train = tf.Variable(ms, trainable = True)\n",
        "        bs_train = tf.Variable(bs, trainable = True)\n",
        "        #print(trial)\n",
        "\n",
        "        @tf.function\n",
        "        def train_step():\n",
        "            with tf.GradientTape() as tape:\n",
        "                log_probability, square_err = log_prob(self.x_observed, self.y_observed, ms_train, bs_train)\n",
        "                agg_loss = tf.reduce_mean(-log_probability / len(x_observed))\n",
        "            gradients = tape.gradient(agg_loss, [ms_train,bs_train])\n",
        "            optimizer.apply_gradients(zip(gradients, [ms_train,bs_train]))\n",
        "            #return log_probability\n",
        "            return square_err\n",
        "\n",
        "        with trange(num_steps) as pbar:\n",
        "            for _ in pbar:\n",
        "                square_err = train_step()\n",
        "                pbar.set_description(f\"Chi Squared: {(np.nanmin(square_err)):.8f}\")\n",
        "        return ms_train, bs_train\n",
        "\n",
        "      def SVI(self, optimizer, start, n_vi=250, init_scales=1e-3, num_steps=500, seed=2):\n",
        "          tf.random.set_seed(seed)\n",
        "\n",
        "          start = tf.squeeze(start)\n",
        "          scale = (\n",
        "            np.ones(len(start)).astype(np.float32) * init_scales\n",
        "            if np.size(init_scales) == 1\n",
        "            else init_scales\n",
        "          )\n",
        "          q_z = tfd.MultivariateNormalTriL(\n",
        "            loc=tf.Variable(start),\n",
        "            scale_tril=tfp.util.TransformedVariable(\n",
        "                np.diag(scale),\n",
        "                tfp.bijectors.FillScaleTriL(diag_bijector=tfb.Exp(), diag_shift=1e-6),\n",
        "                name=\"stddev\",\n",
        "            ),\n",
        "          )\n",
        "\n",
        "\n"
      ],
      "metadata": {
        "id": "21ClKuAXMFvf"
      },
      "execution_count": 132,
      "outputs": []
    },
    {
      "cell_type": "code",
      "source": [
        "fitter = ModellingSequence(x_observed, y_observed)"
      ],
      "metadata": {
        "id": "_a1my5dr8PP_"
      },
      "execution_count": 127,
      "outputs": []
    },
    {
      "cell_type": "code",
      "source": [
        "schedule_fn = tf.keras.optimizers.schedules.PolynomialDecay(3e0, 500, 1e0)\n",
        "optimizer = tf.keras.optimizers.Adam(schedule_fn)\n",
        "MAP = fitter.MAP(optimizer=optimizer, n_samples=500, num_steps=300, seed=0)"
      ],
      "metadata": {
        "colab": {
          "base_uri": "https://localhost:8080/",
          "height": 49,
          "referenced_widgets": [
            "e5d72026b32d45be8677795c2a55c990",
            "848042e11a8c42c18d13a68edea08384",
            "499dc69816e140679d9a3677af755469",
            "e9b8abf062f3455cbf1f69e8ec525525",
            "4a755d2f678d4bffb83def8c2821cc0d",
            "157682135e714c49b1f54c912ac90b37",
            "58806cfd691649ff9fe65d6f69455aec",
            "3af1dcb3b6c4490b803d1227f0871080",
            "f2c03d7ed5dc4212baf413b15347e20a",
            "2b740647d9d64481ae31b5fdcb047a77",
            "8d1b7ec60f3c4667840fbbf8710d93e9"
          ]
        },
        "id": "p9AUGe4G8PhQ",
        "outputId": "0d8c5cc9-7b7b-4106-f8eb-5e38217b5f66"
      },
      "execution_count": 128,
      "outputs": [
        {
          "output_type": "display_data",
          "data": {
            "text/plain": [
              "  0%|          | 0/300 [00:00<?, ?it/s]"
            ],
            "application/vnd.jupyter.widget-view+json": {
              "version_major": 2,
              "version_minor": 0,
              "model_id": "e5d72026b32d45be8677795c2a55c990"
            }
          },
          "metadata": {}
        }
      ]
    },
    {
      "cell_type": "code",
      "source": [
        "ms_train, bs_train = MAP\n",
        "lps = log_prob(x_observed, y_observed, ms_train, bs_train)[0]\n",
        "best_idx = tf.argmax(lps).numpy()\n",
        "MAP_m = ms_train[best_idx].numpy()\n",
        "MAP_b = bs_train[best_idx].numpy()\n",
        "\n",
        "MAP_m, MAP_b"
      ],
      "metadata": {
        "colab": {
          "base_uri": "https://localhost:8080/"
        },
        "id": "bwwALLp21JuQ",
        "outputId": "5051e030-8316-44ef-e514-15beeb8f441c"
      },
      "execution_count": 131,
      "outputs": [
        {
          "output_type": "execute_result",
          "data": {
            "text/plain": [
              "(2.0108476, -3.0700295)"
            ]
          },
          "metadata": {},
          "execution_count": 131
        }
      ]
    },
    {
      "cell_type": "code",
      "source": [],
      "metadata": {
        "id": "Zofy_QL8xl9o"
      },
      "execution_count": null,
      "outputs": []
    }
  ]
}